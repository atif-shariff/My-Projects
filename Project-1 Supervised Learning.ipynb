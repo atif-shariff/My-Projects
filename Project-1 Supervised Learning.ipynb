{
 "cells": [
  {
   "cell_type": "code",
   "execution_count": 1,
   "metadata": {},
   "outputs": [],
   "source": [
    "import numpy as np\n",
    "import pandas as pd"
   ]
  },
  {
   "cell_type": "markdown",
   "metadata": {},
   "source": [
    "<h3>1) Import and store the data in a data frame.</h3>"
   ]
  },
  {
   "cell_type": "markdown",
   "metadata": {},
   "source": [
    "<H4>Dataset Description : </H4>\n",
    "\n",
    "Dataset:   airq402.dat\n",
    "\n",
    "Source: U.S. Department of Transportation\n",
    "\n",
    "Description: Airfsres and passengers for U.S. Domestic Routes\n",
    "for 4th Quarter of 2002.\n",
    "\n",
    "Variables/Columns\n",
    "\n",
    "City1   1-3 \n",
    "City2   5-7\n",
    "Average Fare    11-17\n",
    "Distance      20-23\n",
    "Average weekly passengers   26-33\n",
    "market leading airline    36-37\n",
    "market share     40-45\n",
    "Average fare    48-54\n",
    "Low price airline   57-58\n",
    "market share    61-66\n",
    "price     69-75"
   ]
  },
  {
   "cell_type": "code",
   "execution_count": 3,
   "metadata": {},
   "outputs": [],
   "source": [
    "dataset_url=\"http://www.stat.ufl.edu/~winner/data/airq402.dat\""
   ]
  },
  {
   "cell_type": "code",
   "execution_count": 4,
   "metadata": {},
   "outputs": [],
   "source": [
    "us_columns=['City_1','City_2','Average_Fare','Distance','Averg_weekly_passengers','markt_leading_airline','market_share','Avg_fare','Lowprice_airline','2_markt_share','price']"
   ]
  },
  {
   "cell_type": "code",
   "execution_count": 5,
   "metadata": {},
   "outputs": [],
   "source": [
    "# importing the data and providing column names as per data description\n",
    "data1=pd.read_csv(dataset_url,sep='\\s+',names=us_columns) "
   ]
  },
  {
   "cell_type": "code",
   "execution_count": 6,
   "metadata": {},
   "outputs": [],
   "source": [
    "# another way if sep is not to be used for a url .dat file :\n",
    "# data=pd.read_fwf(\"http://www.stat.ufl.edu/~winner/data/airq402.dat\",names=us_columns)"
   ]
  },
  {
   "cell_type": "code",
   "execution_count": 7,
   "metadata": {},
   "outputs": [],
   "source": [
    "us_air=pd.DataFrame(data=data1)"
   ]
  },
  {
   "cell_type": "code",
   "execution_count": 8,
   "metadata": {},
   "outputs": [
    {
     "data": {
      "text/html": [
       "<div>\n",
       "<style scoped>\n",
       "    .dataframe tbody tr th:only-of-type {\n",
       "        vertical-align: middle;\n",
       "    }\n",
       "\n",
       "    .dataframe tbody tr th {\n",
       "        vertical-align: top;\n",
       "    }\n",
       "\n",
       "    .dataframe thead th {\n",
       "        text-align: right;\n",
       "    }\n",
       "</style>\n",
       "<table border=\"1\" class=\"dataframe\">\n",
       "  <thead>\n",
       "    <tr style=\"text-align: right;\">\n",
       "      <th></th>\n",
       "      <th>City_1</th>\n",
       "      <th>City_2</th>\n",
       "      <th>Average_Fare</th>\n",
       "      <th>Distance</th>\n",
       "      <th>Averg_weekly_passengers</th>\n",
       "      <th>markt_leading_airline</th>\n",
       "      <th>market_share</th>\n",
       "      <th>Avg_fare</th>\n",
       "      <th>Lowprice_airline</th>\n",
       "      <th>2_markt_share</th>\n",
       "      <th>price</th>\n",
       "    </tr>\n",
       "  </thead>\n",
       "  <tbody>\n",
       "    <tr>\n",
       "      <th>0</th>\n",
       "      <td>CAK</td>\n",
       "      <td>ATL</td>\n",
       "      <td>114.47</td>\n",
       "      <td>528</td>\n",
       "      <td>424.56</td>\n",
       "      <td>FL</td>\n",
       "      <td>70.19</td>\n",
       "      <td>111.03</td>\n",
       "      <td>FL</td>\n",
       "      <td>70.19</td>\n",
       "      <td>111.03</td>\n",
       "    </tr>\n",
       "    <tr>\n",
       "      <th>1</th>\n",
       "      <td>CAK</td>\n",
       "      <td>MCO</td>\n",
       "      <td>122.47</td>\n",
       "      <td>860</td>\n",
       "      <td>276.84</td>\n",
       "      <td>FL</td>\n",
       "      <td>75.10</td>\n",
       "      <td>123.09</td>\n",
       "      <td>DL</td>\n",
       "      <td>17.23</td>\n",
       "      <td>118.94</td>\n",
       "    </tr>\n",
       "    <tr>\n",
       "      <th>2</th>\n",
       "      <td>ALB</td>\n",
       "      <td>ATL</td>\n",
       "      <td>214.42</td>\n",
       "      <td>852</td>\n",
       "      <td>215.76</td>\n",
       "      <td>DL</td>\n",
       "      <td>78.89</td>\n",
       "      <td>223.98</td>\n",
       "      <td>CO</td>\n",
       "      <td>2.77</td>\n",
       "      <td>167.12</td>\n",
       "    </tr>\n",
       "    <tr>\n",
       "      <th>3</th>\n",
       "      <td>ALB</td>\n",
       "      <td>BWI</td>\n",
       "      <td>69.40</td>\n",
       "      <td>288</td>\n",
       "      <td>606.84</td>\n",
       "      <td>WN</td>\n",
       "      <td>96.97</td>\n",
       "      <td>68.86</td>\n",
       "      <td>WN</td>\n",
       "      <td>96.97</td>\n",
       "      <td>68.86</td>\n",
       "    </tr>\n",
       "    <tr>\n",
       "      <th>4</th>\n",
       "      <td>ALB</td>\n",
       "      <td>ORD</td>\n",
       "      <td>158.13</td>\n",
       "      <td>723</td>\n",
       "      <td>313.04</td>\n",
       "      <td>UA</td>\n",
       "      <td>39.79</td>\n",
       "      <td>161.36</td>\n",
       "      <td>WN</td>\n",
       "      <td>15.34</td>\n",
       "      <td>145.42</td>\n",
       "    </tr>\n",
       "    <tr>\n",
       "      <th>...</th>\n",
       "      <td>...</td>\n",
       "      <td>...</td>\n",
       "      <td>...</td>\n",
       "      <td>...</td>\n",
       "      <td>...</td>\n",
       "      <td>...</td>\n",
       "      <td>...</td>\n",
       "      <td>...</td>\n",
       "      <td>...</td>\n",
       "      <td>...</td>\n",
       "      <td>...</td>\n",
       "    </tr>\n",
       "    <tr>\n",
       "      <th>995</th>\n",
       "      <td>SYR</td>\n",
       "      <td>TPA</td>\n",
       "      <td>136.16</td>\n",
       "      <td>1104</td>\n",
       "      <td>184.34</td>\n",
       "      <td>US</td>\n",
       "      <td>33.37</td>\n",
       "      <td>135.82</td>\n",
       "      <td>DL</td>\n",
       "      <td>28.65</td>\n",
       "      <td>118.51</td>\n",
       "    </tr>\n",
       "    <tr>\n",
       "      <th>996</th>\n",
       "      <td>TLH</td>\n",
       "      <td>TPA</td>\n",
       "      <td>83.28</td>\n",
       "      <td>200</td>\n",
       "      <td>232.71</td>\n",
       "      <td>FL</td>\n",
       "      <td>99.57</td>\n",
       "      <td>82.55</td>\n",
       "      <td>FL</td>\n",
       "      <td>99.57</td>\n",
       "      <td>82.55</td>\n",
       "    </tr>\n",
       "    <tr>\n",
       "      <th>997</th>\n",
       "      <td>TPA</td>\n",
       "      <td>IAD</td>\n",
       "      <td>159.97</td>\n",
       "      <td>814</td>\n",
       "      <td>843.80</td>\n",
       "      <td>US</td>\n",
       "      <td>46.19</td>\n",
       "      <td>159.65</td>\n",
       "      <td>DL</td>\n",
       "      <td>13.89</td>\n",
       "      <td>159.02</td>\n",
       "    </tr>\n",
       "    <tr>\n",
       "      <th>998</th>\n",
       "      <td>TPA</td>\n",
       "      <td>PBI</td>\n",
       "      <td>73.57</td>\n",
       "      <td>174</td>\n",
       "      <td>214.45</td>\n",
       "      <td>WN</td>\n",
       "      <td>99.74</td>\n",
       "      <td>73.44</td>\n",
       "      <td>WN</td>\n",
       "      <td>99.74</td>\n",
       "      <td>73.44</td>\n",
       "    </tr>\n",
       "    <tr>\n",
       "      <th>999</th>\n",
       "      <td>IAD</td>\n",
       "      <td>PBI</td>\n",
       "      <td>126.67</td>\n",
       "      <td>859</td>\n",
       "      <td>475.65</td>\n",
       "      <td>US</td>\n",
       "      <td>56.28</td>\n",
       "      <td>129.92</td>\n",
       "      <td>DL</td>\n",
       "      <td>38.57</td>\n",
       "      <td>121.94</td>\n",
       "    </tr>\n",
       "  </tbody>\n",
       "</table>\n",
       "<p>1000 rows × 11 columns</p>\n",
       "</div>"
      ],
      "text/plain": [
       "    City_1 City_2  Average_Fare  Distance  Averg_weekly_passengers  \\\n",
       "0      CAK    ATL        114.47       528                   424.56   \n",
       "1      CAK    MCO        122.47       860                   276.84   \n",
       "2      ALB    ATL        214.42       852                   215.76   \n",
       "3      ALB    BWI         69.40       288                   606.84   \n",
       "4      ALB    ORD        158.13       723                   313.04   \n",
       "..     ...    ...           ...       ...                      ...   \n",
       "995    SYR    TPA        136.16      1104                   184.34   \n",
       "996    TLH    TPA         83.28       200                   232.71   \n",
       "997    TPA    IAD        159.97       814                   843.80   \n",
       "998    TPA    PBI         73.57       174                   214.45   \n",
       "999    IAD    PBI        126.67       859                   475.65   \n",
       "\n",
       "    markt_leading_airline  market_share  Avg_fare Lowprice_airline  \\\n",
       "0                      FL         70.19    111.03               FL   \n",
       "1                      FL         75.10    123.09               DL   \n",
       "2                      DL         78.89    223.98               CO   \n",
       "3                      WN         96.97     68.86               WN   \n",
       "4                      UA         39.79    161.36               WN   \n",
       "..                    ...           ...       ...              ...   \n",
       "995                    US         33.37    135.82               DL   \n",
       "996                    FL         99.57     82.55               FL   \n",
       "997                    US         46.19    159.65               DL   \n",
       "998                    WN         99.74     73.44               WN   \n",
       "999                    US         56.28    129.92               DL   \n",
       "\n",
       "     2_markt_share   price  \n",
       "0            70.19  111.03  \n",
       "1            17.23  118.94  \n",
       "2             2.77  167.12  \n",
       "3            96.97   68.86  \n",
       "4            15.34  145.42  \n",
       "..             ...     ...  \n",
       "995          28.65  118.51  \n",
       "996          99.57   82.55  \n",
       "997          13.89  159.02  \n",
       "998          99.74   73.44  \n",
       "999          38.57  121.94  \n",
       "\n",
       "[1000 rows x 11 columns]"
      ]
     },
     "execution_count": 8,
     "metadata": {},
     "output_type": "execute_result"
    }
   ],
   "source": [
    "us_air"
   ]
  },
  {
   "cell_type": "markdown",
   "metadata": {},
   "source": [
    "<h3>2)Remove the outliers from the data </h3>"
   ]
  },
  {
   "cell_type": "code",
   "execution_count": 9,
   "metadata": {},
   "outputs": [
    {
     "data": {
      "text/plain": [
       "(1000, 11)"
      ]
     },
     "execution_count": 9,
     "metadata": {},
     "output_type": "execute_result"
    }
   ],
   "source": [
    "us_air.shape #original shape of the datset"
   ]
  },
  {
   "cell_type": "code",
   "execution_count": 10,
   "metadata": {},
   "outputs": [
    {
     "data": {
      "text/plain": [
       "City_1                     False\n",
       "City_2                     False\n",
       "Average_Fare               False\n",
       "Distance                   False\n",
       "Averg_weekly_passengers    False\n",
       "markt_leading_airline      False\n",
       "market_share               False\n",
       "Avg_fare                   False\n",
       "Lowprice_airline           False\n",
       "2_markt_share              False\n",
       "price                      False\n",
       "dtype: bool"
      ]
     },
     "execution_count": 10,
     "metadata": {},
     "output_type": "execute_result"
    }
   ],
   "source": [
    "#checking for missing values\n",
    "us_air.isnull().any()"
   ]
  },
  {
   "cell_type": "code",
   "execution_count": 11,
   "metadata": {},
   "outputs": [
    {
     "name": "stderr",
     "output_type": "stream",
     "text": [
      "C:\\Users\\atifs\\anaconda3\\lib\\site-packages\\seaborn\\_decorators.py:36: FutureWarning: Pass the following variable as a keyword arg: x. From version 0.12, the only valid positional argument will be `data`, and passing other arguments without an explicit keyword will result in an error or misinterpretation.\n",
      "  warnings.warn(\n"
     ]
    },
    {
     "data": {
      "text/plain": [
       "<AxesSubplot:xlabel='Average_Fare'>"
      ]
     },
     "execution_count": 11,
     "metadata": {},
     "output_type": "execute_result"
    },
    {
     "data": {
      "image/png": "[encoded data removed]",
      "text/plain": [
       "<Figure size 432x288 with 1 Axes>"
      ]
     },
     "metadata": {
      "needs_background": "light"
     },
     "output_type": "display_data"
    }
   ],
   "source": [
    "#visualizing outliers\n",
    "import seaborn as sns\n",
    "sns.boxplot(us_air['Average_Fare'])"
   ]
  },
  {
   "cell_type": "code",
   "execution_count": 12,
   "metadata": {},
   "outputs": [
    {
     "name": "stderr",
     "output_type": "stream",
     "text": [
      "C:\\Users\\atifs\\anaconda3\\lib\\site-packages\\seaborn\\_decorators.py:36: FutureWarning: Pass the following variable as a keyword arg: x. From version 0.12, the only valid positional argument will be `data`, and passing other arguments without an explicit keyword will result in an error or misinterpretation.\n",
      "  warnings.warn(\n"
     ]
    },
    {
     "data": {
      "text/plain": [
       "<AxesSubplot:xlabel='Distance'>"
      ]
     },
     "execution_count": 12,
     "metadata": {},
     "output_type": "execute_result"
    },
    {
     "data": {
      "image/png": "[encoded data removed]",
      "text/plain": [
       "<Figure size 432x288 with 1 Axes>"
      ]
     },
     "metadata": {
      "needs_background": "light"
     },
     "output_type": "display_data"
    }
   ],
   "source": [
    "sns.boxplot(us_air['Distance'])"
   ]
  },
  {
   "cell_type": "code",
   "execution_count": 13,
   "metadata": {},
   "outputs": [
    {
     "name": "stderr",
     "output_type": "stream",
     "text": [
      "C:\\Users\\atifs\\anaconda3\\lib\\site-packages\\seaborn\\_decorators.py:36: FutureWarning: Pass the following variable as a keyword arg: x. From version 0.12, the only valid positional argument will be `data`, and passing other arguments without an explicit keyword will result in an error or misinterpretation.\n",
      "  warnings.warn(\n"
     ]
    },
    {
     "data": {
      "text/plain": [
       "<AxesSubplot:xlabel='Averg_weekly_passengers'>"
      ]
     },
     "execution_count": 13,
     "metadata": {},
     "output_type": "execute_result"
    },
    {
     "data": {
      "image/png": "[encoded data removed]",
      "text/plain": [
       "<Figure size 432x288 with 1 Axes>"
      ]
     },
     "metadata": {
      "needs_background": "light"
     },
     "output_type": "display_data"
    }
   ],
   "source": [
    "sns.boxplot(us_air['Averg_weekly_passengers'])"
   ]
  },
  {
   "cell_type": "code",
   "execution_count": 14,
   "metadata": {},
   "outputs": [
    {
     "name": "stderr",
     "output_type": "stream",
     "text": [
      "C:\\Users\\atifs\\anaconda3\\lib\\site-packages\\seaborn\\_decorators.py:36: FutureWarning: Pass the following variable as a keyword arg: x. From version 0.12, the only valid positional argument will be `data`, and passing other arguments without an explicit keyword will result in an error or misinterpretation.\n",
      "  warnings.warn(\n"
     ]
    },
    {
     "data": {
      "text/plain": [
       "<AxesSubplot:xlabel='market_share'>"
      ]
     },
     "execution_count": 14,
     "metadata": {},
     "output_type": "execute_result"
    },
    {
     "data": {
      "image/png": "[encoded data removed]",
      "text/plain": [
       "<Figure size 432x288 with 1 Axes>"
      ]
     },
     "metadata": {
      "needs_background": "light"
     },
     "output_type": "display_data"
    }
   ],
   "source": [
    "sns.boxplot(us_air['market_share'])"
   ]
  },
  {
   "cell_type": "code",
   "execution_count": 15,
   "metadata": {},
   "outputs": [
    {
     "name": "stderr",
     "output_type": "stream",
     "text": [
      "C:\\Users\\atifs\\anaconda3\\lib\\site-packages\\seaborn\\_decorators.py:36: FutureWarning: Pass the following variable as a keyword arg: x. From version 0.12, the only valid positional argument will be `data`, and passing other arguments without an explicit keyword will result in an error or misinterpretation.\n",
      "  warnings.warn(\n"
     ]
    },
    {
     "data": {
      "text/plain": [
       "<AxesSubplot:xlabel='Avg_fare'>"
      ]
     },
     "execution_count": 15,
     "metadata": {},
     "output_type": "execute_result"
    },
    {
     "data": {
      "image/png": "[encoded data removed]",
      "text/plain": [
       "<Figure size 432x288 with 1 Axes>"
      ]
     },
     "metadata": {
      "needs_background": "light"
     },
     "output_type": "display_data"
    }
   ],
   "source": [
    "sns.boxplot(us_air['Avg_fare'])"
   ]
  },
  {
   "cell_type": "code",
   "execution_count": 16,
   "metadata": {},
   "outputs": [
    {
     "name": "stderr",
     "output_type": "stream",
     "text": [
      "C:\\Users\\atifs\\anaconda3\\lib\\site-packages\\seaborn\\_decorators.py:36: FutureWarning: Pass the following variable as a keyword arg: x. From version 0.12, the only valid positional argument will be `data`, and passing other arguments without an explicit keyword will result in an error or misinterpretation.\n",
      "  warnings.warn(\n"
     ]
    },
    {
     "data": {
      "text/plain": [
       "<AxesSubplot:xlabel='2_markt_share'>"
      ]
     },
     "execution_count": 16,
     "metadata": {},
     "output_type": "execute_result"
    },
    {
     "data": {
      "image/png": "[encoded data removed]",
      "text/plain": [
       "<Figure size 432x288 with 1 Axes>"
      ]
     },
     "metadata": {
      "needs_background": "light"
     },
     "output_type": "display_data"
    }
   ],
   "source": [
    "sns.boxplot(us_air['2_markt_share'])"
   ]
  },
  {
   "cell_type": "code",
   "execution_count": 17,
   "metadata": {},
   "outputs": [
    {
     "name": "stderr",
     "output_type": "stream",
     "text": [
      "C:\\Users\\atifs\\anaconda3\\lib\\site-packages\\seaborn\\_decorators.py:36: FutureWarning: Pass the following variable as a keyword arg: x. From version 0.12, the only valid positional argument will be `data`, and passing other arguments without an explicit keyword will result in an error or misinterpretation.\n",
      "  warnings.warn(\n"
     ]
    },
    {
     "data": {
      "text/plain": [
       "<AxesSubplot:xlabel='price'>"
      ]
     },
     "execution_count": 17,
     "metadata": {},
     "output_type": "execute_result"
    },
    {
     "data": {
      "image/png": "[encoded data removed]",
      "text/plain": [
       "<Figure size 432x288 with 1 Axes>"
      ]
     },
     "metadata": {
      "needs_background": "light"
     },
     "output_type": "display_data"
    }
   ],
   "source": [
    "sns.boxplot(us_air['price'])"
   ]
  },
  {
   "cell_type": "code",
   "execution_count": 18,
   "metadata": {},
   "outputs": [
    {
     "name": "stdout",
     "output_type": "stream",
     "text": [
      "Average_Fare                71.4175\n",
      "Distance                   899.0000\n",
      "Averg_weekly_passengers    512.7150\n",
      "market_share                27.0000\n",
      "Avg_fare                    78.8925\n",
      "2_markt_share               39.7775\n",
      "price                       54.7625\n",
      "dtype: float64\n"
     ]
    }
   ],
   "source": [
    "#Outliers presence and treatment using Inter Quartile Range method\n",
    "q1 = us_air.quantile(0.25)\n",
    "q3 = us_air.quantile(0.75)\n",
    "iqr = q3 - q1\n",
    "print(iqr)"
   ]
  },
  {
   "cell_type": "code",
   "execution_count": 19,
   "metadata": {},
   "outputs": [],
   "source": [
    "lower_bound = q1 -(1.5 * iqr)"
   ]
  },
  {
   "cell_type": "code",
   "execution_count": 20,
   "metadata": {},
   "outputs": [],
   "source": [
    "upper_bound = q3 +(1.5 * iqr)"
   ]
  },
  {
   "cell_type": "code",
   "execution_count": 21,
   "metadata": {},
   "outputs": [
    {
     "name": "stdout",
     "output_type": "stream",
     "text": [
      "     2_markt_share  Average_Fare  Averg_weekly_passengers  Avg_fare  City_1  \\\n",
      "0            False         False                    False     False   False   \n",
      "1            False         False                    False     False   False   \n",
      "2            False         False                    False     False   False   \n",
      "3            False         False                    False     False   False   \n",
      "4            False         False                    False     False   False   \n",
      "..             ...           ...                      ...       ...     ...   \n",
      "995          False         False                    False     False   False   \n",
      "996          False         False                    False     False   False   \n",
      "997          False         False                    False     False   False   \n",
      "998          False         False                    False     False   False   \n",
      "999          False         False                    False     False   False   \n",
      "\n",
      "     City_2  Distance  Lowprice_airline  market_share  markt_leading_airline  \\\n",
      "0     False     False             False         False                  False   \n",
      "1     False     False             False         False                  False   \n",
      "2     False     False             False         False                  False   \n",
      "3     False     False             False         False                  False   \n",
      "4     False     False             False         False                  False   \n",
      "..      ...       ...               ...           ...                    ...   \n",
      "995   False     False             False         False                  False   \n",
      "996   False     False             False         False                  False   \n",
      "997   False     False             False         False                  False   \n",
      "998   False     False             False         False                  False   \n",
      "999   False     False             False         False                  False   \n",
      "\n",
      "     price  \n",
      "0    False  \n",
      "1    False  \n",
      "2    False  \n",
      "3    False  \n",
      "4    False  \n",
      "..     ...  \n",
      "995  False  \n",
      "996  False  \n",
      "997  False  \n",
      "998  False  \n",
      "999  False  \n",
      "\n",
      "[1000 rows x 11 columns]\n"
     ]
    },
    {
     "name": "stderr",
     "output_type": "stream",
     "text": [
      "<ipython-input-21-59af0b5c23c5>:1: FutureWarning: Automatic reindexing on DataFrame vs Series comparisons is deprecated and will raise ValueError in a future version.  Do `left, right = left.align(right, axis=1, copy=False)` before e.g. `left == right`\n",
      "  print((us_air<lower_bound)|(us_air>upper_bound))\n",
      "<ipython-input-21-59af0b5c23c5>:1: FutureWarning: Automatic reindexing on DataFrame vs Series comparisons is deprecated and will raise ValueError in a future version.  Do `left, right = left.align(right, axis=1, copy=False)` before e.g. `left == right`\n",
      "  print((us_air<lower_bound)|(us_air>upper_bound))\n"
     ]
    }
   ],
   "source": [
    "print((us_air<lower_bound)|(us_air>upper_bound))\n",
    "#The data point which have False means those values are valid whereas True indicates presence of an outlier."
   ]
  },
  {
   "cell_type": "code",
   "execution_count": 23,
   "metadata": {},
   "outputs": [
    {
     "name": "stderr",
     "output_type": "stream",
     "text": [
      "<ipython-input-23-8e22c7a65867>:2: FutureWarning: Automatic reindexing on DataFrame vs Series comparisons is deprecated and will raise ValueError in a future version.  Do `left, right = left.align(right, axis=1, copy=False)` before e.g. `left == right`\n",
      "  f1=us_air[((us_air<lower_bound)|(us_air>upper_bound)).any(axis=1)]\n",
      "<ipython-input-23-8e22c7a65867>:2: FutureWarning: Automatic reindexing on DataFrame vs Series comparisons is deprecated and will raise ValueError in a future version.  Do `left, right = left.align(right, axis=1, copy=False)` before e.g. `left == right`\n",
      "  f1=us_air[((us_air<lower_bound)|(us_air>upper_bound)).any(axis=1)]\n"
     ]
    }
   ],
   "source": [
    "#outlier treatment\n",
    "f1=us_air[((us_air<lower_bound)|(us_air>upper_bound)).any(axis=1)]    "
   ]
  },
  {
   "cell_type": "code",
   "execution_count": 24,
   "metadata": {},
   "outputs": [
    {
     "data": {
      "text/html": [
       "<div>\n",
       "<style scoped>\n",
       "    .dataframe tbody tr th:only-of-type {\n",
       "        vertical-align: middle;\n",
       "    }\n",
       "\n",
       "    .dataframe tbody tr th {\n",
       "        vertical-align: top;\n",
       "    }\n",
       "\n",
       "    .dataframe thead th {\n",
       "        text-align: right;\n",
       "    }\n",
       "</style>\n",
       "<table border=\"1\" class=\"dataframe\">\n",
       "  <thead>\n",
       "    <tr style=\"text-align: right;\">\n",
       "      <th></th>\n",
       "      <th>City_1</th>\n",
       "      <th>City_2</th>\n",
       "      <th>Average_Fare</th>\n",
       "      <th>Distance</th>\n",
       "      <th>Averg_weekly_passengers</th>\n",
       "      <th>markt_leading_airline</th>\n",
       "      <th>market_share</th>\n",
       "      <th>Avg_fare</th>\n",
       "      <th>Lowprice_airline</th>\n",
       "      <th>2_markt_share</th>\n",
       "      <th>price</th>\n",
       "    </tr>\n",
       "  </thead>\n",
       "  <tbody>\n",
       "    <tr>\n",
       "      <th>32</th>\n",
       "      <td>ATL</td>\n",
       "      <td>BOS</td>\n",
       "      <td>156.55</td>\n",
       "      <td>946</td>\n",
       "      <td>1834.34</td>\n",
       "      <td>DL</td>\n",
       "      <td>75.26</td>\n",
       "      <td>163.05</td>\n",
       "      <td>FL</td>\n",
       "      <td>16.29</td>\n",
       "      <td>128.51</td>\n",
       "    </tr>\n",
       "    <tr>\n",
       "      <th>35</th>\n",
       "      <td>ATL</td>\n",
       "      <td>ORD</td>\n",
       "      <td>146.06</td>\n",
       "      <td>606</td>\n",
       "      <td>2885.76</td>\n",
       "      <td>DL</td>\n",
       "      <td>40.28</td>\n",
       "      <td>161.88</td>\n",
       "      <td>FL</td>\n",
       "      <td>26.08</td>\n",
       "      <td>111.32</td>\n",
       "    </tr>\n",
       "    <tr>\n",
       "      <th>39</th>\n",
       "      <td>ATL</td>\n",
       "      <td>DFW</td>\n",
       "      <td>147.50</td>\n",
       "      <td>732</td>\n",
       "      <td>2358.04</td>\n",
       "      <td>DL</td>\n",
       "      <td>55.36</td>\n",
       "      <td>152.80</td>\n",
       "      <td>AA</td>\n",
       "      <td>33.45</td>\n",
       "      <td>143.65</td>\n",
       "    </tr>\n",
       "    <tr>\n",
       "      <th>63</th>\n",
       "      <td>ATL</td>\n",
       "      <td>LGA</td>\n",
       "      <td>150.38</td>\n",
       "      <td>761</td>\n",
       "      <td>6185.43</td>\n",
       "      <td>DL</td>\n",
       "      <td>64.65</td>\n",
       "      <td>159.12</td>\n",
       "      <td>FL</td>\n",
       "      <td>16.55</td>\n",
       "      <td>124.12</td>\n",
       "    </tr>\n",
       "    <tr>\n",
       "      <th>71</th>\n",
       "      <td>ATL</td>\n",
       "      <td>PHL</td>\n",
       "      <td>130.36</td>\n",
       "      <td>665</td>\n",
       "      <td>1995.43</td>\n",
       "      <td>DL</td>\n",
       "      <td>53.12</td>\n",
       "      <td>138.50</td>\n",
       "      <td>FL</td>\n",
       "      <td>13.78</td>\n",
       "      <td>114.65</td>\n",
       "    </tr>\n",
       "    <tr>\n",
       "      <th>...</th>\n",
       "      <td>...</td>\n",
       "      <td>...</td>\n",
       "      <td>...</td>\n",
       "      <td>...</td>\n",
       "      <td>...</td>\n",
       "      <td>...</td>\n",
       "      <td>...</td>\n",
       "      <td>...</td>\n",
       "      <td>...</td>\n",
       "      <td>...</td>\n",
       "      <td>...</td>\n",
       "    </tr>\n",
       "    <tr>\n",
       "      <th>983</th>\n",
       "      <td>SFO</td>\n",
       "      <td>SEA</td>\n",
       "      <td>116.78</td>\n",
       "      <td>678</td>\n",
       "      <td>1545.54</td>\n",
       "      <td>UA</td>\n",
       "      <td>52.32</td>\n",
       "      <td>122.59</td>\n",
       "      <td>AS</td>\n",
       "      <td>45.62</td>\n",
       "      <td>109.45</td>\n",
       "    </tr>\n",
       "    <tr>\n",
       "      <th>985</th>\n",
       "      <td>SFO</td>\n",
       "      <td>IAD</td>\n",
       "      <td>401.23</td>\n",
       "      <td>2442</td>\n",
       "      <td>955.65</td>\n",
       "      <td>UA</td>\n",
       "      <td>64.45</td>\n",
       "      <td>490.03</td>\n",
       "      <td>TZ</td>\n",
       "      <td>3.78</td>\n",
       "      <td>182.66</td>\n",
       "    </tr>\n",
       "    <tr>\n",
       "      <th>986</th>\n",
       "      <td>SJC</td>\n",
       "      <td>SNA</td>\n",
       "      <td>77.11</td>\n",
       "      <td>342</td>\n",
       "      <td>1970.76</td>\n",
       "      <td>WN</td>\n",
       "      <td>49.97</td>\n",
       "      <td>77.54</td>\n",
       "      <td>AA</td>\n",
       "      <td>48.91</td>\n",
       "      <td>76.66</td>\n",
       "    </tr>\n",
       "    <tr>\n",
       "      <th>989</th>\n",
       "      <td>SJC</td>\n",
       "      <td>IAD</td>\n",
       "      <td>322.83</td>\n",
       "      <td>2424</td>\n",
       "      <td>229.02</td>\n",
       "      <td>UA</td>\n",
       "      <td>37.01</td>\n",
       "      <td>408.10</td>\n",
       "      <td>TZ</td>\n",
       "      <td>13.57</td>\n",
       "      <td>172.45</td>\n",
       "    </tr>\n",
       "    <tr>\n",
       "      <th>994</th>\n",
       "      <td>SEA</td>\n",
       "      <td>IAD</td>\n",
       "      <td>288.14</td>\n",
       "      <td>2329</td>\n",
       "      <td>787.50</td>\n",
       "      <td>UA</td>\n",
       "      <td>46.51</td>\n",
       "      <td>329.20</td>\n",
       "      <td>AS</td>\n",
       "      <td>30.43</td>\n",
       "      <td>252.34</td>\n",
       "    </tr>\n",
       "  </tbody>\n",
       "</table>\n",
       "<p>115 rows × 11 columns</p>\n",
       "</div>"
      ],
      "text/plain": [
       "    City_1 City_2  Average_Fare  Distance  Averg_weekly_passengers  \\\n",
       "32     ATL    BOS        156.55       946                  1834.34   \n",
       "35     ATL    ORD        146.06       606                  2885.76   \n",
       "39     ATL    DFW        147.50       732                  2358.04   \n",
       "63     ATL    LGA        150.38       761                  6185.43   \n",
       "71     ATL    PHL        130.36       665                  1995.43   \n",
       "..     ...    ...           ...       ...                      ...   \n",
       "983    SFO    SEA        116.78       678                  1545.54   \n",
       "985    SFO    IAD        401.23      2442                   955.65   \n",
       "986    SJC    SNA         77.11       342                  1970.76   \n",
       "989    SJC    IAD        322.83      2424                   229.02   \n",
       "994    SEA    IAD        288.14      2329                   787.50   \n",
       "\n",
       "    markt_leading_airline  market_share  Avg_fare Lowprice_airline  \\\n",
       "32                     DL         75.26    163.05               FL   \n",
       "35                     DL         40.28    161.88               FL   \n",
       "39                     DL         55.36    152.80               AA   \n",
       "63                     DL         64.65    159.12               FL   \n",
       "71                     DL         53.12    138.50               FL   \n",
       "..                    ...           ...       ...              ...   \n",
       "983                    UA         52.32    122.59               AS   \n",
       "985                    UA         64.45    490.03               TZ   \n",
       "986                    WN         49.97     77.54               AA   \n",
       "989                    UA         37.01    408.10               TZ   \n",
       "994                    UA         46.51    329.20               AS   \n",
       "\n",
       "     2_markt_share   price  \n",
       "32           16.29  128.51  \n",
       "35           26.08  111.32  \n",
       "39           33.45  143.65  \n",
       "63           16.55  124.12  \n",
       "71           13.78  114.65  \n",
       "..             ...     ...  \n",
       "983          45.62  109.45  \n",
       "985           3.78  182.66  \n",
       "986          48.91   76.66  \n",
       "989          13.57  172.45  \n",
       "994          30.43  252.34  \n",
       "\n",
       "[115 rows x 11 columns]"
      ]
     },
     "execution_count": 24,
     "metadata": {},
     "output_type": "execute_result"
    }
   ],
   "source": [
    "# The outliers present in the dataset are:\n",
    "f1"
   ]
  },
  {
   "cell_type": "code",
   "execution_count": 25,
   "metadata": {},
   "outputs": [
    {
     "name": "stderr",
     "output_type": "stream",
     "text": [
      "<ipython-input-25-0444c68a7947>:2: FutureWarning: Automatic reindexing on DataFrame vs Series comparisons is deprecated and will raise ValueError in a future version.  Do `left, right = left.align(right, axis=1, copy=False)` before e.g. `left == right`\n",
      "  us=us_air[~((us_air<lower_bound)|(us_air>upper_bound)).any(axis=1)]    # the tidle operator(~) is the bitwise not. Whatever result comes from the dataframe ~ tidle is inversing boolean mask - Falses to Trues and Trues to Falses i.e it is inversing the result of outcome\n",
      "<ipython-input-25-0444c68a7947>:2: FutureWarning: Automatic reindexing on DataFrame vs Series comparisons is deprecated and will raise ValueError in a future version.  Do `left, right = left.align(right, axis=1, copy=False)` before e.g. `left == right`\n",
      "  us=us_air[~((us_air<lower_bound)|(us_air>upper_bound)).any(axis=1)]    # the tidle operator(~) is the bitwise not. Whatever result comes from the dataframe ~ tidle is inversing boolean mask - Falses to Trues and Trues to Falses i.e it is inversing the result of outcome\n"
     ]
    }
   ],
   "source": [
    "# outlier removal\n",
    "us=us_air[~((us_air<lower_bound)|(us_air>upper_bound)).any(axis=1)]    # the tidle operator(~) is the bitwise not. Whatever result comes from the dataframe ~ tidle is inversing boolean mask - Falses to Trues and Trues to Falses i.e it is inversing the result of outcome"
   ]
  },
  {
   "cell_type": "code",
   "execution_count": 26,
   "metadata": {},
   "outputs": [
    {
     "data": {
      "text/html": [
       "<div>\n",
       "<style scoped>\n",
       "    .dataframe tbody tr th:only-of-type {\n",
       "        vertical-align: middle;\n",
       "    }\n",
       "\n",
       "    .dataframe tbody tr th {\n",
       "        vertical-align: top;\n",
       "    }\n",
       "\n",
       "    .dataframe thead th {\n",
       "        text-align: right;\n",
       "    }\n",
       "</style>\n",
       "<table border=\"1\" class=\"dataframe\">\n",
       "  <thead>\n",
       "    <tr style=\"text-align: right;\">\n",
       "      <th></th>\n",
       "      <th>City_1</th>\n",
       "      <th>City_2</th>\n",
       "      <th>Average_Fare</th>\n",
       "      <th>Distance</th>\n",
       "      <th>Averg_weekly_passengers</th>\n",
       "      <th>markt_leading_airline</th>\n",
       "      <th>market_share</th>\n",
       "      <th>Avg_fare</th>\n",
       "      <th>Lowprice_airline</th>\n",
       "      <th>2_markt_share</th>\n",
       "      <th>price</th>\n",
       "    </tr>\n",
       "  </thead>\n",
       "  <tbody>\n",
       "    <tr>\n",
       "      <th>0</th>\n",
       "      <td>CAK</td>\n",
       "      <td>ATL</td>\n",
       "      <td>114.47</td>\n",
       "      <td>528</td>\n",
       "      <td>424.56</td>\n",
       "      <td>FL</td>\n",
       "      <td>70.19</td>\n",
       "      <td>111.03</td>\n",
       "      <td>FL</td>\n",
       "      <td>70.19</td>\n",
       "      <td>111.03</td>\n",
       "    </tr>\n",
       "    <tr>\n",
       "      <th>1</th>\n",
       "      <td>CAK</td>\n",
       "      <td>MCO</td>\n",
       "      <td>122.47</td>\n",
       "      <td>860</td>\n",
       "      <td>276.84</td>\n",
       "      <td>FL</td>\n",
       "      <td>75.10</td>\n",
       "      <td>123.09</td>\n",
       "      <td>DL</td>\n",
       "      <td>17.23</td>\n",
       "      <td>118.94</td>\n",
       "    </tr>\n",
       "    <tr>\n",
       "      <th>2</th>\n",
       "      <td>ALB</td>\n",
       "      <td>ATL</td>\n",
       "      <td>214.42</td>\n",
       "      <td>852</td>\n",
       "      <td>215.76</td>\n",
       "      <td>DL</td>\n",
       "      <td>78.89</td>\n",
       "      <td>223.98</td>\n",
       "      <td>CO</td>\n",
       "      <td>2.77</td>\n",
       "      <td>167.12</td>\n",
       "    </tr>\n",
       "    <tr>\n",
       "      <th>3</th>\n",
       "      <td>ALB</td>\n",
       "      <td>BWI</td>\n",
       "      <td>69.40</td>\n",
       "      <td>288</td>\n",
       "      <td>606.84</td>\n",
       "      <td>WN</td>\n",
       "      <td>96.97</td>\n",
       "      <td>68.86</td>\n",
       "      <td>WN</td>\n",
       "      <td>96.97</td>\n",
       "      <td>68.86</td>\n",
       "    </tr>\n",
       "    <tr>\n",
       "      <th>4</th>\n",
       "      <td>ALB</td>\n",
       "      <td>ORD</td>\n",
       "      <td>158.13</td>\n",
       "      <td>723</td>\n",
       "      <td>313.04</td>\n",
       "      <td>UA</td>\n",
       "      <td>39.79</td>\n",
       "      <td>161.36</td>\n",
       "      <td>WN</td>\n",
       "      <td>15.34</td>\n",
       "      <td>145.42</td>\n",
       "    </tr>\n",
       "    <tr>\n",
       "      <th>...</th>\n",
       "      <td>...</td>\n",
       "      <td>...</td>\n",
       "      <td>...</td>\n",
       "      <td>...</td>\n",
       "      <td>...</td>\n",
       "      <td>...</td>\n",
       "      <td>...</td>\n",
       "      <td>...</td>\n",
       "      <td>...</td>\n",
       "      <td>...</td>\n",
       "      <td>...</td>\n",
       "    </tr>\n",
       "    <tr>\n",
       "      <th>995</th>\n",
       "      <td>SYR</td>\n",
       "      <td>TPA</td>\n",
       "      <td>136.16</td>\n",
       "      <td>1104</td>\n",
       "      <td>184.34</td>\n",
       "      <td>US</td>\n",
       "      <td>33.37</td>\n",
       "      <td>135.82</td>\n",
       "      <td>DL</td>\n",
       "      <td>28.65</td>\n",
       "      <td>118.51</td>\n",
       "    </tr>\n",
       "    <tr>\n",
       "      <th>996</th>\n",
       "      <td>TLH</td>\n",
       "      <td>TPA</td>\n",
       "      <td>83.28</td>\n",
       "      <td>200</td>\n",
       "      <td>232.71</td>\n",
       "      <td>FL</td>\n",
       "      <td>99.57</td>\n",
       "      <td>82.55</td>\n",
       "      <td>FL</td>\n",
       "      <td>99.57</td>\n",
       "      <td>82.55</td>\n",
       "    </tr>\n",
       "    <tr>\n",
       "      <th>997</th>\n",
       "      <td>TPA</td>\n",
       "      <td>IAD</td>\n",
       "      <td>159.97</td>\n",
       "      <td>814</td>\n",
       "      <td>843.80</td>\n",
       "      <td>US</td>\n",
       "      <td>46.19</td>\n",
       "      <td>159.65</td>\n",
       "      <td>DL</td>\n",
       "      <td>13.89</td>\n",
       "      <td>159.02</td>\n",
       "    </tr>\n",
       "    <tr>\n",
       "      <th>998</th>\n",
       "      <td>TPA</td>\n",
       "      <td>PBI</td>\n",
       "      <td>73.57</td>\n",
       "      <td>174</td>\n",
       "      <td>214.45</td>\n",
       "      <td>WN</td>\n",
       "      <td>99.74</td>\n",
       "      <td>73.44</td>\n",
       "      <td>WN</td>\n",
       "      <td>99.74</td>\n",
       "      <td>73.44</td>\n",
       "    </tr>\n",
       "    <tr>\n",
       "      <th>999</th>\n",
       "      <td>IAD</td>\n",
       "      <td>PBI</td>\n",
       "      <td>126.67</td>\n",
       "      <td>859</td>\n",
       "      <td>475.65</td>\n",
       "      <td>US</td>\n",
       "      <td>56.28</td>\n",
       "      <td>129.92</td>\n",
       "      <td>DL</td>\n",
       "      <td>38.57</td>\n",
       "      <td>121.94</td>\n",
       "    </tr>\n",
       "  </tbody>\n",
       "</table>\n",
       "<p>885 rows × 11 columns</p>\n",
       "</div>"
      ],
      "text/plain": [
       "    City_1 City_2  Average_Fare  Distance  Averg_weekly_passengers  \\\n",
       "0      CAK    ATL        114.47       528                   424.56   \n",
       "1      CAK    MCO        122.47       860                   276.84   \n",
       "2      ALB    ATL        214.42       852                   215.76   \n",
       "3      ALB    BWI         69.40       288                   606.84   \n",
       "4      ALB    ORD        158.13       723                   313.04   \n",
       "..     ...    ...           ...       ...                      ...   \n",
       "995    SYR    TPA        136.16      1104                   184.34   \n",
       "996    TLH    TPA         83.28       200                   232.71   \n",
       "997    TPA    IAD        159.97       814                   843.80   \n",
       "998    TPA    PBI         73.57       174                   214.45   \n",
       "999    IAD    PBI        126.67       859                   475.65   \n",
       "\n",
       "    markt_leading_airline  market_share  Avg_fare Lowprice_airline  \\\n",
       "0                      FL         70.19    111.03               FL   \n",
       "1                      FL         75.10    123.09               DL   \n",
       "2                      DL         78.89    223.98               CO   \n",
       "3                      WN         96.97     68.86               WN   \n",
       "4                      UA         39.79    161.36               WN   \n",
       "..                    ...           ...       ...              ...   \n",
       "995                    US         33.37    135.82               DL   \n",
       "996                    FL         99.57     82.55               FL   \n",
       "997                    US         46.19    159.65               DL   \n",
       "998                    WN         99.74     73.44               WN   \n",
       "999                    US         56.28    129.92               DL   \n",
       "\n",
       "     2_markt_share   price  \n",
       "0            70.19  111.03  \n",
       "1            17.23  118.94  \n",
       "2             2.77  167.12  \n",
       "3            96.97   68.86  \n",
       "4            15.34  145.42  \n",
       "..             ...     ...  \n",
       "995          28.65  118.51  \n",
       "996          99.57   82.55  \n",
       "997          13.89  159.02  \n",
       "998          99.74   73.44  \n",
       "999          38.57  121.94  \n",
       "\n",
       "[885 rows x 11 columns]"
      ]
     },
     "execution_count": 26,
     "metadata": {},
     "output_type": "execute_result"
    }
   ],
   "source": [
    "us"
   ]
  },
  {
   "cell_type": "code",
   "execution_count": 25,
   "metadata": {},
   "outputs": [],
   "source": [
    "# 115 outlier rows are removed"
   ]
  },
  {
   "cell_type": "markdown",
   "metadata": {},
   "source": [
    "<h3>Treat “Average Fare” – 3rdColumn as your Dependent Variable and Rest of the columns as Independent Variable.</h3>"
   ]
  },
  {
   "cell_type": "code",
   "execution_count": 27,
   "metadata": {},
   "outputs": [],
   "source": [
    "X = us.drop('Average_Fare', axis=1) # Independent variables\n",
    "Y = us[['Average_Fare']] # Target variable"
   ]
  },
  {
   "cell_type": "markdown",
   "metadata": {},
   "source": [
    "<h3> Drop the independent variables which has less than 0.1 correlation with the dependent variable</h3>"
   ]
  },
  {
   "cell_type": "code",
   "execution_count": 28,
   "metadata": {},
   "outputs": [
    {
     "data": {
      "text/html": [
       "<div>\n",
       "<style scoped>\n",
       "    .dataframe tbody tr th:only-of-type {\n",
       "        vertical-align: middle;\n",
       "    }\n",
       "\n",
       "    .dataframe tbody tr th {\n",
       "        vertical-align: top;\n",
       "    }\n",
       "\n",
       "    .dataframe thead th {\n",
       "        text-align: right;\n",
       "    }\n",
       "</style>\n",
       "<table border=\"1\" class=\"dataframe\">\n",
       "  <thead>\n",
       "    <tr style=\"text-align: right;\">\n",
       "      <th></th>\n",
       "      <th>Average_Fare</th>\n",
       "      <th>Distance</th>\n",
       "      <th>Averg_weekly_passengers</th>\n",
       "      <th>market_share</th>\n",
       "      <th>Avg_fare</th>\n",
       "      <th>2_markt_share</th>\n",
       "      <th>price</th>\n",
       "    </tr>\n",
       "  </thead>\n",
       "  <tbody>\n",
       "    <tr>\n",
       "      <th>Average_Fare</th>\n",
       "      <td>1.000000</td>\n",
       "      <td>0.522650</td>\n",
       "      <td>-0.197005</td>\n",
       "      <td>-0.207955</td>\n",
       "      <td>0.979713</td>\n",
       "      <td>-0.493555</td>\n",
       "      <td>0.840993</td>\n",
       "    </tr>\n",
       "    <tr>\n",
       "      <th>Distance</th>\n",
       "      <td>0.522650</td>\n",
       "      <td>1.000000</td>\n",
       "      <td>-0.129632</td>\n",
       "      <td>-0.547952</td>\n",
       "      <td>0.489721</td>\n",
       "      <td>-0.361519</td>\n",
       "      <td>0.539894</td>\n",
       "    </tr>\n",
       "    <tr>\n",
       "      <th>Averg_weekly_passengers</th>\n",
       "      <td>-0.197005</td>\n",
       "      <td>-0.129632</td>\n",
       "      <td>1.000000</td>\n",
       "      <td>0.021769</td>\n",
       "      <td>-0.163736</td>\n",
       "      <td>0.076176</td>\n",
       "      <td>-0.209018</td>\n",
       "    </tr>\n",
       "    <tr>\n",
       "      <th>market_share</th>\n",
       "      <td>-0.207955</td>\n",
       "      <td>-0.547952</td>\n",
       "      <td>0.021769</td>\n",
       "      <td>1.000000</td>\n",
       "      <td>-0.193382</td>\n",
       "      <td>0.281182</td>\n",
       "      <td>-0.314555</td>\n",
       "    </tr>\n",
       "    <tr>\n",
       "      <th>Avg_fare</th>\n",
       "      <td>0.979713</td>\n",
       "      <td>0.489721</td>\n",
       "      <td>-0.163736</td>\n",
       "      <td>-0.193382</td>\n",
       "      <td>1.000000</td>\n",
       "      <td>-0.519442</td>\n",
       "      <td>0.794157</td>\n",
       "    </tr>\n",
       "    <tr>\n",
       "      <th>2_markt_share</th>\n",
       "      <td>-0.493555</td>\n",
       "      <td>-0.361519</td>\n",
       "      <td>0.076176</td>\n",
       "      <td>0.281182</td>\n",
       "      <td>-0.519442</td>\n",
       "      <td>1.000000</td>\n",
       "      <td>-0.260912</td>\n",
       "    </tr>\n",
       "    <tr>\n",
       "      <th>price</th>\n",
       "      <td>0.840993</td>\n",
       "      <td>0.539894</td>\n",
       "      <td>-0.209018</td>\n",
       "      <td>-0.314555</td>\n",
       "      <td>0.794157</td>\n",
       "      <td>-0.260912</td>\n",
       "      <td>1.000000</td>\n",
       "    </tr>\n",
       "  </tbody>\n",
       "</table>\n",
       "</div>"
      ],
      "text/plain": [
       "                         Average_Fare  Distance  Averg_weekly_passengers  \\\n",
       "Average_Fare                 1.000000  0.522650                -0.197005   \n",
       "Distance                     0.522650  1.000000                -0.129632   \n",
       "Averg_weekly_passengers     -0.197005 -0.129632                 1.000000   \n",
       "market_share                -0.207955 -0.547952                 0.021769   \n",
       "Avg_fare                     0.979713  0.489721                -0.163736   \n",
       "2_markt_share               -0.493555 -0.361519                 0.076176   \n",
       "price                        0.840993  0.539894                -0.209018   \n",
       "\n",
       "                         market_share  Avg_fare  2_markt_share     price  \n",
       "Average_Fare                -0.207955  0.979713      -0.493555  0.840993  \n",
       "Distance                    -0.547952  0.489721      -0.361519  0.539894  \n",
       "Averg_weekly_passengers      0.021769 -0.163736       0.076176 -0.209018  \n",
       "market_share                 1.000000 -0.193382       0.281182 -0.314555  \n",
       "Avg_fare                    -0.193382  1.000000      -0.519442  0.794157  \n",
       "2_markt_share                0.281182 -0.519442       1.000000 -0.260912  \n",
       "price                       -0.314555  0.794157      -0.260912  1.000000  "
      ]
     },
     "execution_count": 28,
     "metadata": {},
     "output_type": "execute_result"
    }
   ],
   "source": [
    "us.corr()"
   ]
  },
  {
   "cell_type": "code",
   "execution_count": 30,
   "metadata": {},
   "outputs": [],
   "source": [
    "# Averg_weekly_passengers,market_share,2_markt_share have correlation less than 0.1 so we need to drop them\n",
    "us=us.drop('Averg_weekly_passengers', axis=1)\n",
    "us=us.drop('market_share', axis=1)\n",
    "us=us.drop('2_markt_share', axis=1)"
   ]
  },
  {
   "cell_type": "code",
   "execution_count": 31,
   "metadata": {},
   "outputs": [
    {
     "data": {
      "text/html": [
       "<div>\n",
       "<style scoped>\n",
       "    .dataframe tbody tr th:only-of-type {\n",
       "        vertical-align: middle;\n",
       "    }\n",
       "\n",
       "    .dataframe tbody tr th {\n",
       "        vertical-align: top;\n",
       "    }\n",
       "\n",
       "    .dataframe thead th {\n",
       "        text-align: right;\n",
       "    }\n",
       "</style>\n",
       "<table border=\"1\" class=\"dataframe\">\n",
       "  <thead>\n",
       "    <tr style=\"text-align: right;\">\n",
       "      <th></th>\n",
       "      <th>City_1</th>\n",
       "      <th>City_2</th>\n",
       "      <th>Average_Fare</th>\n",
       "      <th>Distance</th>\n",
       "      <th>markt_leading_airline</th>\n",
       "      <th>Avg_fare</th>\n",
       "      <th>Lowprice_airline</th>\n",
       "      <th>price</th>\n",
       "    </tr>\n",
       "  </thead>\n",
       "  <tbody>\n",
       "    <tr>\n",
       "      <th>0</th>\n",
       "      <td>CAK</td>\n",
       "      <td>ATL</td>\n",
       "      <td>114.47</td>\n",
       "      <td>528</td>\n",
       "      <td>FL</td>\n",
       "      <td>111.03</td>\n",
       "      <td>FL</td>\n",
       "      <td>111.03</td>\n",
       "    </tr>\n",
       "    <tr>\n",
       "      <th>1</th>\n",
       "      <td>CAK</td>\n",
       "      <td>MCO</td>\n",
       "      <td>122.47</td>\n",
       "      <td>860</td>\n",
       "      <td>FL</td>\n",
       "      <td>123.09</td>\n",
       "      <td>DL</td>\n",
       "      <td>118.94</td>\n",
       "    </tr>\n",
       "    <tr>\n",
       "      <th>2</th>\n",
       "      <td>ALB</td>\n",
       "      <td>ATL</td>\n",
       "      <td>214.42</td>\n",
       "      <td>852</td>\n",
       "      <td>DL</td>\n",
       "      <td>223.98</td>\n",
       "      <td>CO</td>\n",
       "      <td>167.12</td>\n",
       "    </tr>\n",
       "    <tr>\n",
       "      <th>3</th>\n",
       "      <td>ALB</td>\n",
       "      <td>BWI</td>\n",
       "      <td>69.40</td>\n",
       "      <td>288</td>\n",
       "      <td>WN</td>\n",
       "      <td>68.86</td>\n",
       "      <td>WN</td>\n",
       "      <td>68.86</td>\n",
       "    </tr>\n",
       "    <tr>\n",
       "      <th>4</th>\n",
       "      <td>ALB</td>\n",
       "      <td>ORD</td>\n",
       "      <td>158.13</td>\n",
       "      <td>723</td>\n",
       "      <td>UA</td>\n",
       "      <td>161.36</td>\n",
       "      <td>WN</td>\n",
       "      <td>145.42</td>\n",
       "    </tr>\n",
       "    <tr>\n",
       "      <th>...</th>\n",
       "      <td>...</td>\n",
       "      <td>...</td>\n",
       "      <td>...</td>\n",
       "      <td>...</td>\n",
       "      <td>...</td>\n",
       "      <td>...</td>\n",
       "      <td>...</td>\n",
       "      <td>...</td>\n",
       "    </tr>\n",
       "    <tr>\n",
       "      <th>995</th>\n",
       "      <td>SYR</td>\n",
       "      <td>TPA</td>\n",
       "      <td>136.16</td>\n",
       "      <td>1104</td>\n",
       "      <td>US</td>\n",
       "      <td>135.82</td>\n",
       "      <td>DL</td>\n",
       "      <td>118.51</td>\n",
       "    </tr>\n",
       "    <tr>\n",
       "      <th>996</th>\n",
       "      <td>TLH</td>\n",
       "      <td>TPA</td>\n",
       "      <td>83.28</td>\n",
       "      <td>200</td>\n",
       "      <td>FL</td>\n",
       "      <td>82.55</td>\n",
       "      <td>FL</td>\n",
       "      <td>82.55</td>\n",
       "    </tr>\n",
       "    <tr>\n",
       "      <th>997</th>\n",
       "      <td>TPA</td>\n",
       "      <td>IAD</td>\n",
       "      <td>159.97</td>\n",
       "      <td>814</td>\n",
       "      <td>US</td>\n",
       "      <td>159.65</td>\n",
       "      <td>DL</td>\n",
       "      <td>159.02</td>\n",
       "    </tr>\n",
       "    <tr>\n",
       "      <th>998</th>\n",
       "      <td>TPA</td>\n",
       "      <td>PBI</td>\n",
       "      <td>73.57</td>\n",
       "      <td>174</td>\n",
       "      <td>WN</td>\n",
       "      <td>73.44</td>\n",
       "      <td>WN</td>\n",
       "      <td>73.44</td>\n",
       "    </tr>\n",
       "    <tr>\n",
       "      <th>999</th>\n",
       "      <td>IAD</td>\n",
       "      <td>PBI</td>\n",
       "      <td>126.67</td>\n",
       "      <td>859</td>\n",
       "      <td>US</td>\n",
       "      <td>129.92</td>\n",
       "      <td>DL</td>\n",
       "      <td>121.94</td>\n",
       "    </tr>\n",
       "  </tbody>\n",
       "</table>\n",
       "<p>885 rows × 8 columns</p>\n",
       "</div>"
      ],
      "text/plain": [
       "    City_1 City_2  Average_Fare  Distance markt_leading_airline  Avg_fare  \\\n",
       "0      CAK    ATL        114.47       528                    FL    111.03   \n",
       "1      CAK    MCO        122.47       860                    FL    123.09   \n",
       "2      ALB    ATL        214.42       852                    DL    223.98   \n",
       "3      ALB    BWI         69.40       288                    WN     68.86   \n",
       "4      ALB    ORD        158.13       723                    UA    161.36   \n",
       "..     ...    ...           ...       ...                   ...       ...   \n",
       "995    SYR    TPA        136.16      1104                    US    135.82   \n",
       "996    TLH    TPA         83.28       200                    FL     82.55   \n",
       "997    TPA    IAD        159.97       814                    US    159.65   \n",
       "998    TPA    PBI         73.57       174                    WN     73.44   \n",
       "999    IAD    PBI        126.67       859                    US    129.92   \n",
       "\n",
       "    Lowprice_airline   price  \n",
       "0                 FL  111.03  \n",
       "1                 DL  118.94  \n",
       "2                 CO  167.12  \n",
       "3                 WN   68.86  \n",
       "4                 WN  145.42  \n",
       "..               ...     ...  \n",
       "995               DL  118.51  \n",
       "996               FL   82.55  \n",
       "997               DL  159.02  \n",
       "998               WN   73.44  \n",
       "999               DL  121.94  \n",
       "\n",
       "[885 rows x 8 columns]"
      ]
     },
     "execution_count": 31,
     "metadata": {},
     "output_type": "execute_result"
    }
   ],
   "source": [
    "us"
   ]
  },
  {
   "cell_type": "markdown",
   "metadata": {},
   "source": [
    "<h3>Create scatter Plot of Independent Variable vs Dependent Variable. </h3>"
   ]
  },
  {
   "cell_type": "code",
   "execution_count": 32,
   "metadata": {},
   "outputs": [
    {
     "data": {
      "text/plain": [
       "<seaborn.axisgrid.PairGrid at 0x255400d78e0>"
      ]
     },
     "execution_count": 32,
     "metadata": {},
     "output_type": "execute_result"
    },
    {
     "data": {
      "image/png": "[encoded data removed]",
      "text/plain": [
       "<Figure size 720x720 with 20 Axes>"
      ]
     },
     "metadata": {},
     "output_type": "display_data"
    }
   ],
   "source": [
    "sns.set(style=\"ticks\")\n",
    "sns.pairplot(us)"
   ]
  },
  {
   "cell_type": "code",
   "execution_count": 33,
   "metadata": {},
   "outputs": [
    {
     "data": {
      "text/plain": [
       "<matplotlib.collections.PathCollection at 0x255409b6610>"
      ]
     },
     "execution_count": 33,
     "metadata": {},
     "output_type": "execute_result"
    },
    {
     "data": {
      "image/png": "[encoded data removed]",
      "text/plain": [
       "<Figure size 432x288 with 1 Axes>"
      ]
     },
     "metadata": {
      "needs_background": "light"
     },
     "output_type": "display_data"
    }
   ],
   "source": [
    "%matplotlib inline\n",
    "import matplotlib.pyplot as plt\n",
    "plt.scatter(us['Average_Fare'], us['Distance'])"
   ]
  },
  {
   "cell_type": "code",
   "execution_count": 34,
   "metadata": {},
   "outputs": [
    {
     "data": {
      "text/plain": [
       "<matplotlib.collections.PathCollection at 0x25540bfaa00>"
      ]
     },
     "execution_count": 34,
     "metadata": {},
     "output_type": "execute_result"
    },
    {
     "data": {
      "image/png": "[encoded data removed]",
      "text/plain": [
       "<Figure size 432x288 with 1 Axes>"
      ]
     },
     "metadata": {
      "needs_background": "light"
     },
     "output_type": "display_data"
    }
   ],
   "source": [
    "plt.scatter(us['Average_Fare'], us['Avg_fare'])"
   ]
  },
  {
   "cell_type": "code",
   "execution_count": 35,
   "metadata": {},
   "outputs": [
    {
     "data": {
      "text/plain": [
       "<matplotlib.collections.PathCollection at 0x25540c5a160>"
      ]
     },
     "execution_count": 35,
     "metadata": {},
     "output_type": "execute_result"
    },
    {
     "data": {
      "image/png": "[encoded data removed]",
      "text/plain": [
       "<Figure size 432x288 with 1 Axes>"
      ]
     },
     "metadata": {
      "needs_background": "light"
     },
     "output_type": "display_data"
    }
   ],
   "source": [
    "plt.scatter(us['Average_Fare'], us['price'])"
   ]
  },
  {
   "cell_type": "markdown",
   "metadata": {},
   "source": [
    "<h3>Divide the data set into training and test data set and build a Multiple Linear Regression model.</h3>"
   ]
  },
  {
   "cell_type": "code",
   "execution_count": 63,
   "metadata": {},
   "outputs": [],
   "source": [
    "X=us.drop(['Average_Fare','City_1','City_2','markt_leading_airline','Lowprice_airline'],axis=1)\n",
    "Y=us['Average_Fare']"
   ]
  },
  {
   "cell_type": "code",
   "execution_count": 64,
   "metadata": {},
   "outputs": [],
   "source": [
    "from sklearn.model_selection import train_test_split\n",
    "X_train, X_test, Y_train , Y_test = train_test_split(X, Y, test_size=.20, random_state=1)"
   ]
  },
  {
   "cell_type": "code",
   "execution_count": 65,
   "metadata": {},
   "outputs": [
    {
     "data": {
      "text/html": [
       "<div>\n",
       "<style scoped>\n",
       "    .dataframe tbody tr th:only-of-type {\n",
       "        vertical-align: middle;\n",
       "    }\n",
       "\n",
       "    .dataframe tbody tr th {\n",
       "        vertical-align: top;\n",
       "    }\n",
       "\n",
       "    .dataframe thead th {\n",
       "        text-align: right;\n",
       "    }\n",
       "</style>\n",
       "<table border=\"1\" class=\"dataframe\">\n",
       "  <thead>\n",
       "    <tr style=\"text-align: right;\">\n",
       "      <th></th>\n",
       "      <th>Distance</th>\n",
       "      <th>Avg_fare</th>\n",
       "      <th>price</th>\n",
       "    </tr>\n",
       "  </thead>\n",
       "  <tbody>\n",
       "    <tr>\n",
       "      <th>131</th>\n",
       "      <td>283</td>\n",
       "      <td>73.59</td>\n",
       "      <td>73.59</td>\n",
       "    </tr>\n",
       "    <tr>\n",
       "      <th>323</th>\n",
       "      <td>1069</td>\n",
       "      <td>241.09</td>\n",
       "      <td>151.70</td>\n",
       "    </tr>\n",
       "    <tr>\n",
       "      <th>807</th>\n",
       "      <td>1088</td>\n",
       "      <td>152.78</td>\n",
       "      <td>152.78</td>\n",
       "    </tr>\n",
       "    <tr>\n",
       "      <th>543</th>\n",
       "      <td>1180</td>\n",
       "      <td>126.18</td>\n",
       "      <td>119.86</td>\n",
       "    </tr>\n",
       "    <tr>\n",
       "      <th>624</th>\n",
       "      <td>1866</td>\n",
       "      <td>150.68</td>\n",
       "      <td>142.62</td>\n",
       "    </tr>\n",
       "  </tbody>\n",
       "</table>\n",
       "</div>"
      ],
      "text/plain": [
       "     Distance  Avg_fare   price\n",
       "131       283     73.59   73.59\n",
       "323      1069    241.09  151.70\n",
       "807      1088    152.78  152.78\n",
       "543      1180    126.18  119.86\n",
       "624      1866    150.68  142.62"
      ]
     },
     "execution_count": 65,
     "metadata": {},
     "output_type": "execute_result"
    }
   ],
   "source": [
    "X_train.head()"
   ]
  },
  {
   "cell_type": "code",
   "execution_count": 66,
   "metadata": {},
   "outputs": [
    {
     "data": {
      "text/plain": [
       "131     74.41\n",
       "323    230.74\n",
       "807    156.93\n",
       "543    126.07\n",
       "624    148.94\n",
       "Name: Average_Fare, dtype: float64"
      ]
     },
     "execution_count": 66,
     "metadata": {},
     "output_type": "execute_result"
    }
   ],
   "source": [
    "Y_train.head()"
   ]
  },
  {
   "cell_type": "code",
   "execution_count": null,
   "metadata": {},
   "outputs": [],
   "source": []
  },
  {
   "cell_type": "code",
   "execution_count": 67,
   "metadata": {},
   "outputs": [],
   "source": [
    "from sklearn import linear_model"
   ]
  },
  {
   "cell_type": "code",
   "execution_count": 68,
   "metadata": {},
   "outputs": [],
   "source": [
    "linear_model = linear_model.LinearRegression()\n",
    "model = linear_model.fit(X_train,Y_train)"
   ]
  },
  {
   "cell_type": "code",
   "execution_count": 69,
   "metadata": {},
   "outputs": [],
   "source": [
    "pred = linear_model.predict(X_test)"
   ]
  },
  {
   "cell_type": "code",
   "execution_count": 70,
   "metadata": {},
   "outputs": [
    {
     "data": {
      "text/plain": [
       "array([160.41528019, 144.3541106 ,  85.96736939, 110.0218442 ,\n",
       "       112.71948092,  72.86913656, 131.6411907 ,  83.81684497,\n",
       "       176.29916977, 211.54595436, 177.50232191,  90.9475853 ,\n",
       "       133.12386773, 166.22278921, 210.5939895 , 192.81862847,\n",
       "       165.6119807 , 124.4903543 , 146.01040383, 208.82061547,\n",
       "       120.34254141, 228.58915244, 180.52960926,  99.10130525,\n",
       "       261.25155107, 254.47434287,  76.85634683, 286.97622182,\n",
       "       142.62130032, 268.0980894 ,  78.42780158, 169.65965796,\n",
       "        80.32499536, 119.39603369, 116.3932052 , 140.04467679,\n",
       "       174.78143795, 229.12251105, 160.11258394, 137.75938558,\n",
       "       131.13703406, 125.32110852, 171.72182387,  80.54475263,\n",
       "       131.47287916, 265.21764884, 130.94835847, 166.94587222,\n",
       "       162.23658344,  90.42564082, 215.89753909, 148.71572034,\n",
       "       122.7139189 , 212.45642591, 184.62746533, 224.8268451 ,\n",
       "        78.83300213, 120.14604925, 148.359822  , 208.52803477,\n",
       "       179.34319874, 166.83934208, 160.60497858, 222.89331006,\n",
       "       119.39230403,  78.91434663, 188.12497781, 123.15133364,\n",
       "       222.28174227, 231.93783683, 159.63609359, 223.61945128,\n",
       "       143.18680693, 156.52159125, 136.84737542, 152.43405182,\n",
       "       256.93703167, 183.75130541, 169.62897765, 117.17873262,\n",
       "       148.38425411, 178.34339696,  62.33051573, 138.20760243,\n",
       "       148.79248357, 147.03077513, 124.09759629, 190.84936742,\n",
       "       201.44614553, 226.20412989, 190.96909248, 149.10554616,\n",
       "        71.85078563, 232.14255516, 173.42707792, 162.79553872,\n",
       "        76.6582547 , 212.52419861, 143.51217288, 128.43655233,\n",
       "       197.6047479 , 195.6786635 , 186.14216996, 154.93178797,\n",
       "       233.67750605, 128.54764475, 105.9110552 , 129.15280728,\n",
       "       168.22053587, 129.55039713, 152.87732765, 182.94807197,\n",
       "       197.09948094, 228.77839233, 199.62588734, 243.56033697,\n",
       "       190.06932595, 130.11285258, 159.65594804, 229.40963606,\n",
       "        85.31567049, 167.86858921, 147.25188009, 134.97221466,\n",
       "       129.51226355, 154.10369601, 126.39431211, 195.07322152,\n",
       "       102.85910741, 241.04003804, 205.21215182, 105.04353205,\n",
       "       205.04627072, 196.37187197, 209.9984242 , 127.96994627,\n",
       "       165.75319726, 172.24956654, 191.34219387, 122.75014008,\n",
       "        96.49711407, 177.95603727, 111.29736768, 202.75042344,\n",
       "       193.34421652, 186.99471026, 207.31093041, 186.64534942,\n",
       "       155.69524528, 116.71677104, 147.96865658, 168.4230179 ,\n",
       "       148.81915841, 138.14327345, 142.121829  , 163.1109135 ,\n",
       "       236.31849233, 255.23427151, 222.30220949, 167.15026916,\n",
       "       234.17866048, 189.7712589 , 105.43791293, 177.28043414,\n",
       "       167.47528754,  74.44179319,  89.04943015, 137.84909545,\n",
       "       166.38628436, 238.2073109 , 101.87750218, 190.0981934 ,\n",
       "       142.18404237, 104.49227196, 207.20684345, 133.39615523,\n",
       "       199.03672117])"
      ]
     },
     "execution_count": 70,
     "metadata": {},
     "output_type": "execute_result"
    }
   ],
   "source": [
    "# Predictions\n",
    "pred"
   ]
  },
  {
   "cell_type": "code",
   "execution_count": 71,
   "metadata": {},
   "outputs": [],
   "source": [
    "pred=pd.DataFrame()"
   ]
  },
  {
   "cell_type": "code",
   "execution_count": 72,
   "metadata": {},
   "outputs": [],
   "source": [
    "\n",
    "pred['Average_Fare'] = pred"
   ]
  },
  {
   "cell_type": "code",
   "execution_count": 73,
   "metadata": {},
   "outputs": [
    {
     "data": {
      "text/html": [
       "<div>\n",
       "<style scoped>\n",
       "    .dataframe tbody tr th:only-of-type {\n",
       "        vertical-align: middle;\n",
       "    }\n",
       "\n",
       "    .dataframe tbody tr th {\n",
       "        vertical-align: top;\n",
       "    }\n",
       "\n",
       "    .dataframe thead th {\n",
       "        text-align: right;\n",
       "    }\n",
       "</style>\n",
       "<table border=\"1\" class=\"dataframe\">\n",
       "  <thead>\n",
       "    <tr style=\"text-align: right;\">\n",
       "      <th></th>\n",
       "      <th>markt_leading_airline</th>\n",
       "      <th>Average_Fare</th>\n",
       "    </tr>\n",
       "  </thead>\n",
       "  <tbody>\n",
       "    <tr>\n",
       "      <th>0</th>\n",
       "      <td>FL</td>\n",
       "      <td>FL</td>\n",
       "    </tr>\n",
       "    <tr>\n",
       "      <th>1</th>\n",
       "      <td>FL</td>\n",
       "      <td>FL</td>\n",
       "    </tr>\n",
       "    <tr>\n",
       "      <th>2</th>\n",
       "      <td>DL</td>\n",
       "      <td>DL</td>\n",
       "    </tr>\n",
       "    <tr>\n",
       "      <th>3</th>\n",
       "      <td>WN</td>\n",
       "      <td>WN</td>\n",
       "    </tr>\n",
       "    <tr>\n",
       "      <th>4</th>\n",
       "      <td>UA</td>\n",
       "      <td>UA</td>\n",
       "    </tr>\n",
       "    <tr>\n",
       "      <th>...</th>\n",
       "      <td>...</td>\n",
       "      <td>...</td>\n",
       "    </tr>\n",
       "    <tr>\n",
       "      <th>995</th>\n",
       "      <td>US</td>\n",
       "      <td>US</td>\n",
       "    </tr>\n",
       "    <tr>\n",
       "      <th>996</th>\n",
       "      <td>FL</td>\n",
       "      <td>FL</td>\n",
       "    </tr>\n",
       "    <tr>\n",
       "      <th>997</th>\n",
       "      <td>US</td>\n",
       "      <td>US</td>\n",
       "    </tr>\n",
       "    <tr>\n",
       "      <th>998</th>\n",
       "      <td>WN</td>\n",
       "      <td>WN</td>\n",
       "    </tr>\n",
       "    <tr>\n",
       "      <th>999</th>\n",
       "      <td>US</td>\n",
       "      <td>US</td>\n",
       "    </tr>\n",
       "  </tbody>\n",
       "</table>\n",
       "<p>885 rows × 2 columns</p>\n",
       "</div>"
      ],
      "text/plain": [
       "    markt_leading_airline Average_Fare\n",
       "0                      FL           FL\n",
       "1                      FL           FL\n",
       "2                      DL           DL\n",
       "3                      WN           WN\n",
       "4                      UA           UA\n",
       "..                    ...          ...\n",
       "995                    US           US\n",
       "996                    FL           FL\n",
       "997                    US           US\n",
       "998                    WN           WN\n",
       "999                    US           US\n",
       "\n",
       "[885 rows x 2 columns]"
      ]
     },
     "execution_count": 73,
     "metadata": {},
     "output_type": "execute_result"
    }
   ],
   "source": [
    "pred"
   ]
  },
  {
   "cell_type": "markdown",
   "metadata": {},
   "source": [
    "<h3>Print the coefficients & intercepts of the linear regression model </h3>"
   ]
  },
  {
   "cell_type": "code",
   "execution_count": 45,
   "metadata": {},
   "outputs": [
    {
     "name": "stdout",
     "output_type": "stream",
     "text": [
      "The coefficient for Distance is 0.0017030273458206338\n",
      "The coefficient for Avg_fare is 0.749701968614342\n",
      "The coefficient for price is 0.21801893962832283\n"
     ]
    }
   ],
   "source": [
    " #this gives the coefficients of the 3 features selected above.\n",
    "for idx, col_name in enumerate(X_train.columns):\n",
    "    print(\"The coefficient for {} is {}\".format(col_name, linear_model.coef_ [idx]))"
   ]
  },
  {
   "cell_type": "code",
   "execution_count": 46,
   "metadata": {},
   "outputs": [
    {
     "data": {
      "text/plain": [
       "5.74140294397435"
      ]
     },
     "execution_count": 46,
     "metadata": {},
     "output_type": "execute_result"
    }
   ],
   "source": [
    "linear_model.intercept_ # The intercept"
   ]
  },
  {
   "cell_type": "markdown",
   "metadata": {},
   "source": [
    "<h3>Print the accuracy of the overall model </h3>"
   ]
  },
  {
   "cell_type": "code",
   "execution_count": 47,
   "metadata": {},
   "outputs": [
    {
     "data": {
      "text/plain": [
       "0.9708282329278434"
      ]
     },
     "execution_count": 47,
     "metadata": {},
     "output_type": "execute_result"
    }
   ],
   "source": [
    "linear_model.score(X,Y) # The accuracy"
   ]
  },
  {
   "cell_type": "markdown",
   "metadata": {},
   "source": [
    "#saving to csv file"
   ]
  },
  {
   "cell_type": "code",
   "execution_count": 49,
   "metadata": {},
   "outputs": [],
   "source": [
    "us.to_csv('us.csv', header=True, index=False)"
   ]
  },
  {
   "cell_type": "code",
   "execution_count": 59,
   "metadata": {},
   "outputs": [],
   "source": [
    "pred.to_csv('pred.csv', header=True, index=False)"
   ]
  }
 ],
 "metadata": {
  "kernelspec": {
   "display_name": "Python 3",
   "language": "python",
   "name": "python3"
  },
  "language_info": {
   "codemirror_mode": {
    "name": "ipython",
    "version": 3
   },
   "file_extension": ".py",
   "mimetype": "text/x-python",
   "name": "python",
   "nbconvert_exporter": "python",
   "pygments_lexer": "ipython3",
   "version": "3.8.8"
  }
 },
 "nbformat": 4,
 "nbformat_minor": 2
}
